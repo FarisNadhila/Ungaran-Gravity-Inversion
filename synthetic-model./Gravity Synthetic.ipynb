{
 "cells": [
  {
   "cell_type": "code",
   "execution_count": 1,
   "id": "e3a57f9c",
   "metadata": {},
   "outputs": [],
   "source": [
    "#Import Base Python Data\n",
    "import numpy as np\n",
    "from scipy.interpolate import LinearNDInterpolator\n",
    "import matplotlib as mpl\n",
    "from mpl_toolkits.axes_grid1 import make_axes_locatable\n",
    "import matplotlib.pyplot as plt\n",
    "import os\n",
    "import pyvista as pv\n",
    "import plotly.graph_objects as go\n",
    "import plotly.io as pio\n",
    "import plotly\n",
    "\n",
    "#Import Mesh Tools\n",
    "from discretize import TensorMesh\n",
    "from discretize.utils import mkvc\n",
    "\n",
    "#Import SimPEG\n",
    "from SimPEG.utils import plot2Ddata, model_builder, surface2ind_topo\n",
    "from SimPEG.potential_fields import gravity\n",
    "from SimPEG import (\n",
    "    maps,\n",
    "    data,\n",
    "    data_misfit,\n",
    "    inverse_problem,\n",
    "    regularization,\n",
    "    optimization,\n",
    "    directives,\n",
    "    inversion,\n",
    "    utils,\n",
    ")"
   ]
  },
  {
   "cell_type": "code",
   "execution_count": 2,
   "id": "f06ce391",
   "metadata": {},
   "outputs": [],
   "source": [
    "%matplotlib inline"
   ]
  },
  {
   "cell_type": "code",
   "execution_count": 3,
   "id": "8a294bc9",
   "metadata": {},
   "outputs": [],
   "source": [
    "#Mendeskripsikan parameter model\n",
    "xlen = 2000 #Ukuran box pada koordinat X (m)\n",
    "ylen = 2000 #Ukuran box pada koordinat Y (m)\n",
    "zlen = 1000 #Ukuran box pada koordinat Z (m)\n",
    "ntopo = 61 #Jumlah titik topografi\n",
    "nobs = 51 #Jumlah titik observasi\n",
    "xmid = (nobs-1)/2 #untuk grafik anomali maksimum\n",
    "\n",
    "xmin = -xlen/2\n",
    "xmax = xlen/2\n",
    "ymin = -ylen/2\n",
    "ymax = ylen/2\n",
    "\n",
    "[x_topo, y_topo] = np.meshgrid(np.linspace(xmin, xmax, ntopo), np.linspace(ymin, ymax, ntopo))\n",
    "# z_topo = np.zeros(np.shape(x_topo))\n",
    "z_topo = -15 * np.exp(-(x_topo ** 2 + y_topo ** 2) / 80 ** 2)\n",
    "x_topo, y_topo, z_topo = mkvc(x_topo), mkvc(y_topo), mkvc(z_topo)\n",
    "topo_xyz = np.c_[x_topo, y_topo, z_topo]"
   ]
  },
  {
   "cell_type": "code",
   "execution_count": 4,
   "id": "1cbf9d52",
   "metadata": {},
   "outputs": [],
   "source": [
    "# # Mendeskripsikan lokasi observasi sebagai matriks numpy (N,3) (bisa juga dengan load data)\n",
    "# x = np.linspace(xmin, xmax, nobs)\n",
    "# y = np.linspace(ymin, ymax, nobs)\n",
    "# x, y = np.meshgrid(x, y)\n",
    "# x, y = mkvc(x.T), mkvc(y.T)\n",
    "# fun_interp = LinearNDInterpolator(np.c_[x_topo, y_topo], z_topo)\n",
    "# z = fun_interp(np.c_[x, y]) + 5\n",
    "# receiver_locations = np.c_[x, y, z]\n",
    "# Define the observation locations \n",
    "x = np.linspace(xmin, xmax, nobs)\n",
    "y = np.linspace(ymin, ymax, nobs)\n",
    "x, y = np.meshgrid(x, y)\n",
    "nx = np.size(x)\n",
    "ny = np.size(y)\n",
    "x, y = mkvc(x.T), mkvc(y.T)\n",
    "fun_interp = LinearNDInterpolator(np.c_[x_topo, y_topo], z_topo)\n",
    "z = fun_interp(np.c_[x, y]) + 5\n",
    "nz = np.size(z)\n",
    "receiver_locations = np.c_[x, y, z]\n",
    "\n",
    "# Menentukan komponen bidang yang ingin disimulasikan sebagai bentuk string didalamnya\n",
    "components = [\"gxz\", \"gyz\", \"gzz\",\"gz\"]\n",
    "\n",
    "# Menggunakan lokasi dan komponen observasi untuk menentukan receiver untuk\n",
    "# menyimulasikan data. (Receiver harus ditentukan dalam bentuk list\n",
    "receiver_list = gravity.receivers.Point(receiver_locations, components=components)\n",
    "\n",
    "receiver_list = [receiver_list]\n",
    "\n",
    "# Menentukan sumber medan\n",
    "source_field = gravity.sources.SourceField(receiver_list=receiver_list)\n",
    "\n",
    "# Mendefinisikan survey\n",
    "survey = gravity.survey.Survey(source_field)"
   ]
  },
  {
   "cell_type": "code",
   "execution_count": 5,
   "id": "e1177472",
   "metadata": {},
   "outputs": [
    {
     "name": "stdout",
     "output_type": "stream",
     "text": [
      "[[-1000. -1000.     5.]\n",
      " [ -960. -1000.     5.]\n",
      " [ -920. -1000.     5.]\n",
      " ...\n",
      " [  920.  1000.     5.]\n",
      " [  960.  1000.     5.]\n",
      " [ 1000.  1000.     5.]]\n"
     ]
    }
   ],
   "source": [
    "print(receiver_locations)"
   ]
  },
  {
   "cell_type": "markdown",
   "id": "daa763da",
   "metadata": {},
   "source": [
    "# **MEMBUAT MESH**"
   ]
  },
  {
   "cell_type": "code",
   "execution_count": 6,
   "id": "74af486d",
   "metadata": {},
   "outputs": [
    {
     "data": {
      "text/html": [
       "<table>\n",
       "  <tr>\n",
       "    <td style='font-weight: bold; font-size: 1.2em; text-align: center;' colspan='3'>TensorMesh</td>\n",
       "    <td style='font-size: 1.2em; text-align: center;'colspan='4'>20,000 cells</td>\n",
       "  </tr>\n",
       "  <tr>\n",
       "    <th></th>\n",
       "    <th></th>\n",
       "    <th colspan='2' style='padding: 5px 20px 5px 20px;'>MESH EXTENT</th>\n",
       "    <th colspan='2' style='padding: 5px 20px 5px 20px;'>CELL WIDTH</th>\n",
       "    <th style='padding: 5px 20px 5px 20px;'>FACTOR</th>\n",
       "  </tr>\n",
       "  <tr>\n",
       "    <th style='padding: 5px 20px 5px 20px;'>dir</th>\n",
       "    <th style='padding: 5px 20px 5px 20px;'>nC</th>\n",
       "    <th style='padding: 5px 20px 5px 20px;'>min</th>\n",
       "    <th style='padding: 5px 20px 5px 20px;'>max</th>\n",
       "    <th style='padding: 5px 20px 5px 20px;'>min</th>\n",
       "    <th style='padding: 5px 20px 5px 20px;'>max</th>\n",
       "    <th style='padding: 5px 20px 5px 20px;'>max</th>\n",
       "  </tr>\n",
       "  <tr>\n",
       "    <td style='padding: 5px 20px 5px 20px;'>x</td>\n",
       "    <td style='padding: 5px 20px 5px 20px;'>40</td>\n",
       "    <td style='padding: 5px 20px 5px 20px;'>-1,000.00</td>\n",
       "    <td style='padding: 5px 20px 5px 20px;'>1,000.00</td>\n",
       "    <td style='padding: 5px 20px 5px 20px;'>50.00</td>\n",
       "    <td style='padding: 5px 20px 5px 20px;'>50.00</td>\n",
       "    <td style='padding: 5px 20px 5px 20px;'>1.00</td>\n",
       "  </tr>\n",
       "  <tr>\n",
       "    <td style='padding: 5px 20px 5px 20px;'>y</td>\n",
       "    <td style='padding: 5px 20px 5px 20px;'>25</td>\n",
       "    <td style='padding: 5px 20px 5px 20px;'>-625.00</td>\n",
       "    <td style='padding: 5px 20px 5px 20px;'>625.00</td>\n",
       "    <td style='padding: 5px 20px 5px 20px;'>50.00</td>\n",
       "    <td style='padding: 5px 20px 5px 20px;'>50.00</td>\n",
       "    <td style='padding: 5px 20px 5px 20px;'>1.00</td>\n",
       "  </tr>\n",
       "  <tr>\n",
       "    <td style='padding: 5px 20px 5px 20px;'>z</td>\n",
       "    <td style='padding: 5px 20px 5px 20px;'>20</td>\n",
       "    <td style='padding: 5px 20px 5px 20px;'>-1,000.00</td>\n",
       "    <td style='padding: 5px 20px 5px 20px;'>0.00</td>\n",
       "    <td style='padding: 5px 20px 5px 20px;'>50.00</td>\n",
       "    <td style='padding: 5px 20px 5px 20px;'>50.00</td>\n",
       "    <td style='padding: 5px 20px 5px 20px;'>1.00</td>\n",
       "  </tr>\n",
       "</table>\n"
      ],
      "text/plain": [
       "\n",
       "  TensorMesh: 20,000 cells\n",
       "\n",
       "                      MESH EXTENT             CELL WIDTH      FACTOR\n",
       "  dir    nC        min           max         min       max      max\n",
       "  ---   ---  ---------------------------  ------------------  ------\n",
       "   x     40     -1,000.00      1,000.00     50.00     50.00    1.00\n",
       "   y     25       -625.00        625.00     50.00     50.00    1.00\n",
       "   z     20     -1,000.00          0.00     50.00     50.00    1.00\n"
      ]
     },
     "execution_count": 6,
     "metadata": {},
     "output_type": "execute_result"
    },
    {
     "data": {
      "image/png": "[encoded data removed]",
      "text/plain": [
       "<Figure size 576x864 with 1 Axes>"
      ]
     },
     "metadata": {
      "needs_background": "light"
     },
     "output_type": "display_data"
    }
   ],
   "source": [
    "# Membuat Mesh dengan base Tensor\n",
    "# dn = 600\n",
    "# hx = [(dn, 5, -1.0), (dn, 20), (dn, 5, 1.0)]\n",
    "# hy = [(dn, 5, -1.0), (dn, 25), (dn, 5, 1.0)]\n",
    "# hz = [(100, 5, -1.2), (100, 50)]\n",
    "# mesh = TensorMesh([hx, hy, hz], x0 = [420377.9273, 9194952.47, 'N'])\n",
    "dh = 50.0\n",
    "hx = [(dh, 5, -1.0), (dh, 30), (dh, 5, 1.0)]\n",
    "hy = [(dh, 5, -1.0), (dh, 15), (dh, 5, 1.0)]\n",
    "hz = [(dh, 5, -1.0), (dh, 15)]\n",
    "mesh = TensorMesh([hx, hy, hz], \"CCN\")\n",
    "\n",
    "# fig = go.Figure(data = mesh)\n",
    "fig = plt.figure(figsize=(8,12))\n",
    "ax = fig.add_subplot(111, projection='3d')\n",
    "mesh.plot_grid(ax=ax, edges=False, centers=False);\n",
    "mesh\n",
    "# fig.show()"
   ]
  },
  {
   "cell_type": "code",
   "execution_count": 7,
   "id": "e7ea1ce6",
   "metadata": {},
   "outputs": [],
   "source": [
    "# # MESH RAPS\n",
    "# # dn = 600\n",
    "# # hx = [(dn, 5, -1.0), (dn, 20), (dn, 5, 1.0)]\n",
    "# # hy = [(dn, 5, -1.0), (dn, 25), (dn, 5, 1.0)]\n",
    "# # hz = [(100, 5, -1.2), (100, 50)]\n",
    "# # mesh = TensorMesh([hx, hy, hz], x0 = [420377.9273, 9194952.47, 'N'])\n",
    "# dh = 300.0\n",
    "# hx = [(dh, 5, -1.0), (dh, 30), (dh, 5, 1.0)]\n",
    "# hy = [(dh, 5, -1.0), (dh, 15), (dh, 5, 1.0)]\n",
    "# hz = [(dh, 5, -1.0), (dh, 15)]\n",
    "# mesh = TensorMesh([hx, hy, hz], \"CCN\")\n",
    "\n",
    "# # fig = go.Figure(data = mesh)\n",
    "# fig = plt.figure(figsize=(8,12))\n",
    "# ax = fig.add_subplot(111, projection='3d')\n",
    "# mesh.plot_grid(ax=ax, edges=False, centers=False);\n",
    "# mesh\n",
    "# # fig.show()"
   ]
  },
  {
   "cell_type": "code",
   "execution_count": 8,
   "id": "e6e79628",
   "metadata": {},
   "outputs": [],
   "source": [
    "# gridx = mesh.to_vtk()\n",
    "# p = pv.Plotter()\n",
    "# p.add_mesh(gridx)\n",
    "# p.show()"
   ]
  },
  {
   "cell_type": "code",
   "execution_count": 9,
   "id": "c238a45d",
   "metadata": {},
   "outputs": [],
   "source": [
    "# dn = 600\n",
    "# hx = [(dn, 5, -1.0), (dn, 20), (dn, 5, 1.0)]\n",
    "# hy = [(dn, 5, -1.0), (dn, 25), (dn, 5, 1.0)]\n",
    "# hz = [(100, 5, -1.2), (100, 50)]\n",
    "# mesh2 = TensorMesh([hx, hy, hz], x0 = [420377.9273, 9194952.47, 'N'])\n",
    "# fig = plt.figure(figsize=(8,12))\n",
    "# ax = fig.add_subplot(111, projection='3d')\n",
    "# mesh2.plot_grid(ax=ax, edges=False, centers=False);\n",
    "# mesh2"
   ]
  },
  {
   "cell_type": "markdown",
   "id": "9cf74725",
   "metadata": {},
   "source": [
    "# **MENENTUKAN PARAMETER MODEL**"
   ]
  },
  {
   "cell_type": "code",
   "execution_count": 10,
   "id": "9503b538",
   "metadata": {},
   "outputs": [],
   "source": [
    "# Menentukan nilai kontras densitas pad atiap unit dalam satuan (g/cc)\n",
    "background_density = 1e-4\n",
    "block_density = 1\n",
    "blockRAPS= 0.5\n",
    "# sphere_density = 0.5\n",
    "\n",
    "# Mencari indeks untuk sel mesh yang aktif (contoh: sel di bawah permukaan)\n",
    "ind_active = surface2ind_topo(mesh, topo_xyz)\n",
    "\n",
    "# Menentukan pemetaan dari model ke sel yang aktif.\n",
    "# Model terdiri dari nilai untuk tiap sel aktif di bawah permukaan bumi\n",
    "nC = int(ind_active.sum())\n",
    "model_map = maps.IdentityMap(nP=nC)\n",
    "\n",
    "#Menentukan model. Model dalam SimPEG adalah sebuah vektor array\n",
    "model = background_density * np.ones(nC)"
   ]
  },
  {
   "cell_type": "markdown",
   "id": "4c0ba1c7",
   "metadata": {},
   "source": [
    "# **MODEL BALOK VERTIKAL**"
   ]
  },
  {
   "cell_type": "code",
   "execution_count": 11,
   "id": "491ab7b7",
   "metadata": {},
   "outputs": [],
   "source": [
    "# # Membuat model objek blok dengan ukuran Panjang 400 m Lebar 100 m dan Tinggi 700 m\n",
    "# # dengan kedalaman objek 200 m di bawah permukaan\n",
    "# ind_block = model_builder.getIndicesBlock(np.r_[-200, -50, -900], np.r_[200, 50, -200], mesh.gridCC,\n",
    "# )[0]\n",
    "# model[ind_block] = block_density\n",
    "\n",
    "# # Plot Model Kontras Densitas\n",
    "# fig = plt.figure(figsize=(9, 6))\n",
    "# plotting_map = maps.InjectActiveCells(mesh, ind_active, np.nan)\n",
    "\n",
    "# ax1 = fig.add_axes([0.1, 0.12, 0.73, 0.78])\n",
    "# mesh.plotSlice(\n",
    "#     plotting_map * model,\n",
    "#     normal=\"Y\",\n",
    "#     ax=ax1,\n",
    "#     ind=int(mesh.nCy / 2),\n",
    "#     grid=True,\n",
    "#     clim=(np.min(model), np.max(model)),\n",
    "#     pcolorOpts={\"cmap\": \"viridis\"},\n",
    "# )\n",
    "# # ax1.set_title(\"Potongan model pada sumbu y = 0 m\")\n",
    "# ax1.set_xlabel(\"x (m)\")\n",
    "# ax1.set_ylabel(\"z (m)\", labelpad = 0)\n",
    "\n",
    "# # ax2 = fig.add_axes([0.85, 0.12, 0.05, 0.78])\n",
    "# divider = make_axes_locatable(ax1)\n",
    "# cax = divider.new_vertical(size='5%', pad=0.6, pack_start = True)\n",
    "# ax2 = fig.add_axes(cax)\n",
    "# norm = mpl.colors.Normalize(vmin=np.min(model), vmax=np.max(model))\n",
    "# cbar = mpl.colorbar.ColorbarBase(\n",
    "#     ax2, norm=norm, orientation=\"horizontal\", cmap=mpl.cm.viridis\n",
    "# )\n",
    "# # norm = mpl.colors.Normalize(vmin=np.min(model), vmax=np.max(model))\n",
    "# # cbar = mpl.colorbar.ColorbarBase(\n",
    "# #     ax2, norm=norm, orientation=\"vertical\", cmap=mpl.cm.viridis\n",
    "# cbar.set_label(\"$g/cm^3$\", rotation=360, labelpad=0, size=12)\n",
    "\n",
    "# plt.show()"
   ]
  },
  {
   "cell_type": "markdown",
   "id": "c124d950",
   "metadata": {},
   "source": [
    "## **MODEL VERTIKAL RAPS**"
   ]
  },
  {
   "cell_type": "code",
   "execution_count": 12,
   "id": "2e2a0ca2",
   "metadata": {},
   "outputs": [],
   "source": [
    "# # Membuat model objek blok dengan ukuran Panjang 400 m Lebar 100 m dan Tinggi 700 m\n",
    "# # dengan kedalaman objek 200 m di bawah permukaan\n",
    "# ind_block = model_builder.getIndicesBlock(np.r_[-1500, -500, -5000], np.r_[1500, 500, -2500], mesh.gridCC,\n",
    "# )[0]\n",
    "# model[ind_block] = blockRAPS\n",
    "\n",
    "# # Plot Model Kontras Densitas\n",
    "# fig = plt.figure(figsize=(9, 6))\n",
    "# plotting_map = maps.InjectActiveCells(mesh, ind_active, np.nan)\n",
    "\n",
    "# ax1 = fig.add_axes([0.1, 0.12, 0.73, 0.78])\n",
    "# mesh.plotSlice(\n",
    "#     plotting_map * model,\n",
    "#     normal=\"Y\",\n",
    "#     ax=ax1,\n",
    "#     ind=int(mesh.nCy / 2),\n",
    "#     grid=True,\n",
    "#     clim=(np.min(model), np.max(model)),\n",
    "#     pcolorOpts={\"cmap\": \"viridis\"},\n",
    "# )\n",
    "# ax1.set_title(\"Potongan model pada sumbu y = 0 m\")\n",
    "# ax1.set_xlabel(\"x (m)\")\n",
    "# ax1.set_ylabel(\"z (m)\", labelpad = 0)\n",
    "\n",
    "# # ax2 = fig.add_axes([0.85, 0.12, 0.05, 0.78])\n",
    "# divider = make_axes_locatable(ax1)\n",
    "# cax = divider.new_vertical(size='5%', pad=0.6, pack_start = True)\n",
    "# ax2 = fig.add_axes(cax)\n",
    "# norm = mpl.colors.Normalize(vmin=np.min(model), vmax=np.max(model))\n",
    "# cbar = mpl.colorbar.ColorbarBase(\n",
    "#     ax2, norm=norm, orientation=\"horizontal\", cmap=mpl.cm.viridis\n",
    "# )\n",
    "# # norm = mpl.colors.Normalize(vmin=np.min(model), vmax=np.max(model))\n",
    "# # cbar = mpl.colorbar.ColorbarBase(\n",
    "# #     ax2, norm=norm, orientation=\"vertical\", cmap=mpl.cm.viridis\n",
    "# cbar.set_label(\"$g/cm^3$\", rotation=360, labelpad=0, size=12)\n",
    "\n",
    "# plt.show()"
   ]
  },
  {
   "cell_type": "markdown",
   "id": "63ca9a63",
   "metadata": {},
   "source": [
    "## **MODEL HORIZONTAL RAPS**"
   ]
  },
  {
   "cell_type": "code",
   "execution_count": 13,
   "id": "ef961476",
   "metadata": {},
   "outputs": [
    {
     "data": {
      "image/png": "[encoded data removed]",
      "text/plain": [
       "<Figure size 648x432 with 2 Axes>"
      ]
     },
     "metadata": {
      "needs_background": "light"
     },
     "output_type": "display_data"
    }
   ],
   "source": [
    "# Membuat model objek blok dengan ukuran Panjang 400 m Lebar 100 m dan Tinggi 700 m\n",
    "# dengan kedalaman objek 200 m di bawah permukaan\n",
    "ind_block = model_builder.getIndicesBlock(np.r_[-2000, -500, -4000], np.r_[2000, 500, -2000], mesh.gridCC,\n",
    ")[0]\n",
    "model[ind_block] = blockRAPS\n",
    "\n",
    "# Plot Model Kontras Densitas\n",
    "fig = plt.figure(figsize=(9, 6))\n",
    "plotting_map = maps.InjectActiveCells(mesh, ind_active, np.nan)\n",
    "\n",
    "ax1 = fig.add_axes([0.1, 0.12, 0.73, 0.78])\n",
    "mesh.plotSlice(\n",
    "    plotting_map * model,\n",
    "    normal=\"Y\",\n",
    "    ax=ax1,\n",
    "    ind=int(mesh.nCy / 2),\n",
    "    grid=True,\n",
    "    clim=(np.min(model), np.max(model)),\n",
    "    pcolorOpts={\"cmap\": \"viridis\"},\n",
    ")\n",
    "ax1.set_title(\"Potongan model pada sumbu y = 0 m\")\n",
    "ax1.set_xlabel(\"x (m)\")\n",
    "ax1.set_ylabel(\"z (m)\", labelpad = 0)\n",
    "\n",
    "# ax2 = fig.add_axes([0.85, 0.12, 0.05, 0.78])\n",
    "divider = make_axes_locatable(ax1)\n",
    "cax = divider.new_vertical(size='5%', pad=0.6, pack_start = True)\n",
    "ax2 = fig.add_axes(cax)\n",
    "norm = mpl.colors.Normalize(vmin=np.min(model), vmax=np.max(model))\n",
    "cbar = mpl.colorbar.ColorbarBase(\n",
    "    ax2, norm=norm, orientation=\"horizontal\", cmap=mpl.cm.viridis\n",
    ")\n",
    "# norm = mpl.colors.Normalize(vmin=np.min(model), vmax=np.max(model))\n",
    "# cbar = mpl.colorbar.ColorbarBase(\n",
    "#     ax2, norm=norm, orientation=\"vertical\", cmap=mpl.cm.viridis\n",
    "cbar.set_label(\"$g/cm^3$\", rotation=360, labelpad=0, size=12)\n",
    "\n",
    "plt.show()"
   ]
  },
  {
   "cell_type": "markdown",
   "id": "652bf5df",
   "metadata": {},
   "source": [
    "# **MODEL BALOK HORIZONTAL**"
   ]
  },
  {
   "cell_type": "code",
   "execution_count": 14,
   "id": "a4e46ce9",
   "metadata": {},
   "outputs": [],
   "source": [
    "# # Membuat model objek blok dengan ukuran Panjang 400 m Lebar 100 m dan Tinggi 700 m\n",
    "# # dengan kedalaman objek 200 m di bawah permukaan\n",
    "# ind_block = model_builder.getIndicesBlock(np.r_[-500, -50, -500], np.r_[500, 50, -200], mesh.gridCC,\n",
    "# )[0]\n",
    "# model[ind_block] = block_density\n",
    "\n",
    "# # Plot Model Kontras Densitas\n",
    "# fig = plt.figure(figsize=(9, 6))\n",
    "# plotting_map = maps.InjectActiveCells(mesh, ind_active, np.nan)\n",
    "\n",
    "# ax1 = fig.add_axes([0.1, 0.12, 0.73, 0.78])\n",
    "# mesh.plotSlice(\n",
    "#     plotting_map * model,\n",
    "#     normal=\"Y\",\n",
    "#     ax=ax1,\n",
    "#     ind=int(mesh.nCy / 2),\n",
    "#     grid=True,\n",
    "#     clim=(np.min(model), np.max(model)),\n",
    "#     pcolorOpts={\"cmap\": \"viridis\"},\n",
    "# )\n",
    "# ax1.set_title(\"Potongan model pada sumbu y = 0 m\")\n",
    "# ax1.set_xlabel(\"x (m)\")\n",
    "# ax1.set_ylabel(\"z (m)\", labelpad = -2)\n",
    "\n",
    "# # ax2 = fig.add_axes([0.85, 0.12, 0.05, 0.78])\n",
    "# divider = make_axes_locatable(ax1)\n",
    "# cax = divider.new_vertical(size='5%', pad=0.6, pack_start = True)\n",
    "# ax2 = fig.add_axes(cax)\n",
    "# norm = mpl.colors.Normalize(vmin=np.min(model), vmax=np.max(model))\n",
    "# cbar = mpl.colorbar.ColorbarBase(\n",
    "#     ax2, norm=norm, orientation=\"horizontal\", cmap=mpl.cm.viridis\n",
    "# )\n",
    "# cbar.set_label(\"$g/cm^3$\", rotation=360, labelpad=0, size=12)\n",
    "\n",
    "# plt.show()"
   ]
  },
  {
   "cell_type": "markdown",
   "id": "0eb774a6",
   "metadata": {},
   "source": [
    "# **MODEL PATAHAN**"
   ]
  },
  {
   "cell_type": "code",
   "execution_count": 15,
   "id": "8e2f775a",
   "metadata": {},
   "outputs": [
    {
     "data": {
      "image/png": "[encoded data removed]",
      "text/plain": [
       "<Figure size 648x432 with 2 Axes>"
      ]
     },
     "metadata": {
      "needs_background": "light"
     },
     "output_type": "display_data"
    }
   ],
   "source": [
    "# Membuat model patahan\n",
    "ind_block1 = model_builder.getIndicesBlock(np.r_[-800, -50, -250], np.r_[-650, 50, -200], mesh.gridCC)[0]\n",
    "ind_block2 = model_builder.getIndicesBlock(np.r_[-750, -50, -300], np.r_[-600, 50, -250], mesh.gridCC)[0]\n",
    "ind_block3 = model_builder.getIndicesBlock(np.r_[-700, -50, -350], np.r_[-550, 50, -300], mesh.gridCC)[0]\n",
    "ind_block4 = model_builder.getIndicesBlock(np.r_[-650, -50, -400], np.r_[-500, 50, -350], mesh.gridCC)[0]\n",
    "ind_block5 = model_builder.getIndicesBlock(np.r_[-600, -50, -450], np.r_[-450, 50, -400], mesh.gridCC)[0]\n",
    "ind_block6 = model_builder.getIndicesBlock(np.r_[-550, -50, -500], np.r_[-400, 50, -450], mesh.gridCC)[0]\n",
    "ind_block7 = model_builder.getIndicesBlock(np.r_[-500, -50, -550], np.r_[-350, 50, -500], mesh.gridCC)[0]\n",
    "ind_block8 = model_builder.getIndicesBlock(np.r_[-450, -50, -600], np.r_[-300, 50, -550], mesh.gridCC)[0]\n",
    "ind_block9 = model_builder.getIndicesBlock(np.r_[-400, -50, -650], np.r_[-250, 50, -600], mesh.gridCC)[0]\n",
    "ind_block10 = model_builder.getIndicesBlock(np.r_[-350, -50, -700], np.r_[-200, 50, -650], mesh.gridCC)[0]\n",
    "ind_block11 = model_builder.getIndicesBlock(np.r_[-300, -50, -750], np.r_[-150, 50, -700], mesh.gridCC)[0]\n",
    "ind_block12 = model_builder.getIndicesBlock(np.r_[-250, -50, -800], np.r_[-100, 50, -750], mesh.gridCC)[0]\n",
    "ind_block13 = model_builder.getIndicesBlock(np.r_[-200, -50, -850], np.r_[-50, 50, -800], mesh.gridCC)[0]\n",
    "ind_block14 = model_builder.getIndicesBlock(np.r_[-150, -50, -900], np.r_[0, 50, -850], mesh.gridCC)[0]\n",
    "ind_block15 = model_builder.getIndicesBlock(np.r_[-100, -50, -950], np.r_[50, 50, -900], mesh.gridCC)[0]\n",
    "ind_block16 = model_builder.getIndicesBlock(np.r_[-50, -50, -1000], np.r_[100, 50, -950], mesh.gridCC)[0]\n",
    "ind_block17 = model_builder.getIndicesBlock(np.r_[0, -50, -1050], np.r_[150, 50, -1000], mesh.gridCC)[0]\n",
    "ind_block18 = model_builder.getIndicesBlock(np.r_[-300, -50, -600], np.r_[0, 50, -700], mesh.gridCC)[0]\n",
    "ind_block19 = model_builder.getIndicesBlock(np.r_[-50, -50, -500], np.r_[250, 50, -600], mesh.gridCC)[0]\n",
    "ind_block20 = model_builder.getIndicesBlock(np.r_[200, -50, -400], np.r_[500, 50, -500], mesh.gridCC)[0]\n",
    "ind_block21 = model_builder.getIndicesBlock(np.r_[450, -50, -300], np.r_[750, 50, -400], mesh.gridCC)[0]\n",
    "\n",
    "\n",
    "model[ind_block1] = block_density\n",
    "model[ind_block2] = block_density\n",
    "model[ind_block3] = block_density\n",
    "model[ind_block4] = block_density\n",
    "model[ind_block5] = block_density\n",
    "model[ind_block6] = block_density\n",
    "model[ind_block7] = block_density\n",
    "model[ind_block8] = block_density\n",
    "model[ind_block9] = block_density\n",
    "model[ind_block10] = block_density\n",
    "model[ind_block11] = block_density\n",
    "model[ind_block12] = block_density\n",
    "model[ind_block13] = block_density\n",
    "model[ind_block14] = block_density\n",
    "model[ind_block15] = block_density\n",
    "model[ind_block16] = block_density\n",
    "model[ind_block17] = block_density\n",
    "model[ind_block18] = block_density\n",
    "model[ind_block19] = block_density\n",
    "model[ind_block20] = block_density\n",
    "model[ind_block21] = block_density\n",
    "\n",
    "# Plot Model Kontras Densitas\n",
    "fig = plt.figure(figsize=(9, 6))\n",
    "plotting_map = maps.InjectActiveCells(mesh, ind_active, np.nan)\n",
    "\n",
    "ax1 = fig.add_axes([0.1, 0.12, 0.73, 0.78])\n",
    "mesh.plotSlice(\n",
    "    plotting_map * model,\n",
    "    normal=\"Y\",\n",
    "    ax=ax1,\n",
    "    ind=int(mesh.nCy / 2),\n",
    "    grid=True,\n",
    "    clim=(np.min(model), np.max(model)),\n",
    "    pcolorOpts={\"cmap\": \"viridis\"},\n",
    ")\n",
    "ax1.set_title(\"Potongan model pada sumbu y = 0 m\")\n",
    "ax1.set_xlabel(\"x (m)\")\n",
    "ax1.set_ylabel(\"z (m)\", labelpad = 0)\n",
    "\n",
    "# ax2 = fig.add_axes([0.85, 0.12, 0.05, 0.78])\n",
    "divider = make_axes_locatable(ax1)\n",
    "cax = divider.new_vertical(size='5%', pad=0.6, pack_start = True)\n",
    "ax2 = fig.add_axes(cax)\n",
    "norm = mpl.colors.Normalize(vmin=np.min(model), vmax=np.max(model))\n",
    "cbar = mpl.colorbar.ColorbarBase(\n",
    "    ax2, norm=norm, orientation=\"horizontal\", cmap=mpl.cm.viridis\n",
    ")\n",
    "cbar.set_label(\"$g/cm^3$\", rotation=360, labelpad=0, size=12)\n",
    "\n",
    "plt.show()"
   ]
  },
  {
   "cell_type": "code",
   "execution_count": 16,
   "id": "a1f413a9",
   "metadata": {},
   "outputs": [
    {
     "name": "stdout",
     "output_type": "stream",
     "text": [
      "[0.0001 0.0001 0.0001 ... 0.0001 0.0001 0.0001]\n",
      "[[-975. -600. -975.]\n",
      " [-925. -600. -975.]\n",
      " [-875. -600. -975.]\n",
      " ...\n",
      " [ 875.  600.  -25.]\n",
      " [ 925.  600.  -25.]\n",
      " [ 975.  600.  -25.]]\n",
      "0.0001\n",
      "1.0\n"
     ]
    },
    {
     "data": {
      "text/plain": [
       "'5.11.0'"
      ]
     },
     "execution_count": 16,
     "metadata": {},
     "output_type": "execute_result"
    }
   ],
   "source": [
    "print(model)\n",
    "print(mesh.gridCC)\n",
    "print(np.min(model))\n",
    "print(np.max(model))\n",
    "plotly.__version__"
   ]
  },
  {
   "cell_type": "code",
   "execution_count": 17,
   "id": "1cc4d7c3",
   "metadata": {},
   "outputs": [],
   "source": [
    "# #3D Model View\n",
    "# fig= go.Figure(data=go.Isosurface(\n",
    "#     x= mesh.gridCC[:,0],\n",
    "#     y= mesh.gridCC[:,1],\n",
    "#     z= mesh.gridCC[:,2],\n",
    "#     value=model,\n",
    "#     isomin=0.01,\n",
    "#     isomax=1.01,\n",
    "#     opacity=1,\n",
    "#     colorscale='Viridis',\n",
    "#     colorbar_orientation='v',\n",
    "#     colorbar=dict(bgcolor='white',thickness=0,thicknessmode='pixels'),\n",
    "#     showscale=False\n",
    "# ))\n",
    "# # # fig.update_traces(\n",
    "# # #     colorbar=False,\n",
    "# # #     colorbar_orientation='h',\n",
    "# # #     colorbar_y=0\n",
    "# # )\n",
    "# fig.show()\n",
    "# # pio.write_image(fig, 'filename.pdf', width=1920, height=1080)\n",
    "# plotly.offline.plot(fig, filename='test_patahan.html')"
   ]
  },
  {
   "cell_type": "markdown",
   "id": "2c98ecb3",
   "metadata": {},
   "source": [
    "# **FORWARD SIMULATION**"
   ]
  },
  {
   "cell_type": "code",
   "execution_count": 18,
   "id": "992b5302",
   "metadata": {},
   "outputs": [
    {
     "name": "stdout",
     "output_type": "stream",
     "text": [
      "FORWARD SIMULATION SELESAI! Waktu yang dibutuhkan = 83.81 s\n"
     ]
    }
   ],
   "source": [
    "import time\n",
    "t = time.time()\n",
    "# Mendefinisikan Forward Simulation\n",
    "# NOTE: Menentukan keyword \"store_sensitivities\" argumen ke \"forward only\"\n",
    "#       untuk menyimulasikan data tanpa menyimpan sensitivitasnya.\n",
    "simulation = gravity.simulation.Simulation3DIntegral(\n",
    "    survey = survey,\n",
    "    mesh   = mesh,\n",
    "    rhoMap = model_map,\n",
    "    actInd = ind_active,\n",
    "    store_sensitivities = \"forward_only\",\n",
    ") \n",
    "# Memulai Forward Simulation\n",
    "# SimPEG menggunakan koordinat tangan kanan dimana Z positif menuju ke atas\n",
    "# Hal ini membuat sinyal gravitasi terlihat \"inkonsisten\" pada densitas di visualisasi\n",
    "dpred = simulation.dpred(model)\n",
    "n_data = len(dpred)\n",
    "print(\"FORWARD SIMULATION SELESAI! Waktu yang dibutuhkan = {:1.2f} s\".format(time.time() - t))"
   ]
  },
  {
   "cell_type": "markdown",
   "id": "7d440117",
   "metadata": {},
   "source": [
    "# **PLOT ANOMALI GRAVITASI**"
   ]
  },
  {
   "cell_type": "code",
   "execution_count": 19,
   "id": "26772caa",
   "metadata": {},
   "outputs": [
    {
     "name": "stdout",
     "output_type": "stream",
     "text": [
      "(10404,)\n",
      "25.102186575693125\n",
      "[0.04086714 0.04267634 0.0445078  ... 0.03956337 0.03784768 0.0361686 ]\n",
      "(2601, 3)\n"
     ]
    }
   ],
   "source": [
    "print(np.shape(dpred))\n",
    "print(np.max(dpred))\n",
    "print(np.abs(dpred[3:n_data:4]))\n",
    "print(np.shape(receiver_locations))"
   ]
  },
  {
   "cell_type": "code",
   "execution_count": 20,
   "id": "55771e33",
   "metadata": {
    "scrolled": true
   },
   "outputs": [],
   "source": [
    "# # Plot\n",
    "# fig = plt.figure(figsize=(18, 12))\n",
    "# n_locations = receiver_locations.shape[0]\n",
    "# v_max = np.max(np.abs(dpred))\n",
    "\n",
    "# ax1 = fig.add_axes([0.62, 0.15, 0.25, 0.78])\n",
    "# cplot1 = plot2Ddata(\n",
    "#     receiver_locations,\n",
    "#     dpred[0:n_data:1],\n",
    "#     ax=ax1,\n",
    "#     ncontour=30,\n",
    "#     clim=(-v_max, v_max),\n",
    "#     contourOpts={\"cmap\": \"jet\"}\n",
    "# )\n",
    "# cplot1[0].set_clim((-v_max, v_max))\n",
    "# # ax1.set_title(\"$\\partial g /\\partial z$\")\n",
    "# ax1.set_title(\"Anomali Gravitasi\")\n",
    "# ax1.set_xlabel(\"x (m)\")\n",
    "# ax1.set_ylabel(\"y (m)\")\n",
    "# # ax1.set_yticks([])\n",
    "\n",
    "# ax2 = fig.add_axes([0.89, 0.352, 0.015, 0.38])\n",
    "# norm = mpl.colors.Normalize(vmin=-v_max, vmax=v_max)\n",
    "# cbar = mpl.colorbar.ColorbarBase(\n",
    "#     ax2, norm=norm, orientation=\"vertical\", cmap=mpl.cm.jet, \n",
    "# )\n",
    "# cbar.set_label(\"$mGal$\", rotation=270, labelpad=16, size=12)\n",
    "\n",
    "# plt.show()"
   ]
  },
  {
   "cell_type": "code",
   "execution_count": 21,
   "id": "cc685505",
   "metadata": {},
   "outputs": [
    {
     "data": {
      "image/png": "[encoded data removed]",
      "text/plain": [
       "<Figure size 864x216 with 4 Axes>"
      ]
     },
     "metadata": {
      "needs_background": "light"
     },
     "output_type": "display_data"
    }
   ],
   "source": [
    "# Plot\n",
    "fig = plt.figure(figsize=(12, 3))\n",
    "n_locations = receiver_locations.shape[0]\n",
    "v_max = np.max(np.abs(dpred))\n",
    "\n",
    "#dg/dx\n",
    "ax1 = fig.add_axes([0.1, 0.15, 0.25, 0.78])\n",
    "cplot1 = plot2Ddata(\n",
    "    receiver_locations,\n",
    "    dpred[0:n_data:4],\n",
    "    ax=ax1,\n",
    "    ncontour=30,\n",
    "    clim=(-v_max, v_max),\n",
    "    contourOpts={\"cmap\": \"viridis\"},\n",
    ")\n",
    "cplot1[0].set_clim((-v_max, v_max))\n",
    "ax1.set_title(\"$\\partial g /\\partial x$\")\n",
    "ax1.set_xlabel(\"x (m)\")\n",
    "ax1.set_ylabel(\"y (m)\")\n",
    "\n",
    "#dg/dy\n",
    "ax2 = fig.add_axes([0.36, 0.15, 0.25, 0.78])\n",
    "cplot2 = plot2Ddata(\n",
    "    receiver_locations,\n",
    "    dpred[1:n_data:4],\n",
    "    ax=ax2,\n",
    "    ncontour=30,\n",
    "    clim=(-v_max, v_max),\n",
    "    contourOpts={\"cmap\": \"viridis\"},\n",
    ")\n",
    "cplot2[0].set_clim((-v_max, v_max))\n",
    "ax2.set_title(\"$\\partial g /\\partial y$\")\n",
    "ax2.set_xlabel(\"x (m)\")\n",
    "ax2.set_yticks([])\n",
    "\n",
    "#VGG\n",
    "ax3 = fig.add_axes([0.62, 0.15, 0.25, 0.78])\n",
    "cplot3 = plot2Ddata(\n",
    "    receiver_locations,\n",
    "    dpred[2:n_data:4],\n",
    "    ax=ax3,\n",
    "    ncontour=30,\n",
    "    clim=(-v_max, v_max),\n",
    "    contourOpts={\"cmap\": \"viridis\"},\n",
    ")\n",
    "cplot3[0].set_clim((-v_max, v_max))\n",
    "ax3.set_title(\"$\\partial g /\\partial z$\")\n",
    "ax3.set_xlabel(\"x (m)\")\n",
    "ax3.set_yticks([])\n",
    "\n",
    "ax4 = fig.add_axes([0.89, 0.13, 0.02, 0.79])\n",
    "norm = mpl.colors.Normalize(vmin=-v_max, vmax=v_max)\n",
    "cbar = mpl.colorbar.ColorbarBase(\n",
    "    ax4, norm=norm, orientation=\"vertical\", cmap=mpl.cm.viridis\n",
    ")\n",
    "cbar.set_label(\"$mgal/m$\", rotation=270, labelpad=15, size=12)\n",
    "\n",
    "plt.show()"
   ]
  },
  {
   "cell_type": "code",
   "execution_count": 22,
   "id": "0f3ecde8",
   "metadata": {},
   "outputs": [
    {
     "name": "stdout",
     "output_type": "stream",
     "text": [
      "[0.04086714 0.04267634 0.0445078  ... 0.03956337 0.03784768 0.0361686 ]\n"
     ]
    }
   ],
   "source": [
    "print(np.abs(dpred[3:n_data:4]))\n",
    "g_max = np.max(np.abs(dpred[3:n_data:4]))\n",
    "g_min = np.min(np.abs(dpred[3:n_data:4]))\n",
    "n_locations = receiver_locations.shape[0]\n",
    "\n",
    "dpred2 = dpred*5"
   ]
  },
  {
   "cell_type": "code",
   "execution_count": 23,
   "id": "363f13d4",
   "metadata": {},
   "outputs": [
    {
     "data": {
      "image/png": "[encoded data removed]",
      "text/plain": [
       "<Figure size 648x432 with 2 Axes>"
      ]
     },
     "metadata": {
      "needs_background": "light"
     },
     "output_type": "display_data"
    }
   ],
   "source": [
    "# plot gravity anomaly\n",
    "fig = plt.figure(figsize=(9, 6))\n",
    "n_locations = receiver_locations.shape[0]\n",
    "g_max = np.max(np.abs(dpred2[3:n_data:4]))\n",
    "g_min = np.min(np.abs(dpred2[3:n_data:4]))\n",
    "\n",
    "ax1 = fig.add_axes([0.1, 0.1, 0.75, 0.85])\n",
    "cplot1 = plot2Ddata(\n",
    "    receiver_locations,\n",
    "    (np.abs(dpred2[3:n_data:4])),\n",
    "    ax=ax1,\n",
    "    ncontour=100,\n",
    "    clim=(g_min, g_max),\n",
    "    contourOpts={\"cmap\": \"viridis\"},\n",
    ")\n",
    "cplot1[0].set_clim((g_min, g_max))\n",
    "ax1.set_title(\"Anomali Gravitasi\")\n",
    "ax1.set_xlabel(\"x (m)\")\n",
    "ax1.set_ylabel(\"y (m)\", labelpad = 0)\n",
    "\n",
    "divider = make_axes_locatable(ax1)\n",
    "cax = divider.new_vertical(size='5%', pad=0.6, pack_start = True)\n",
    "ax2 = fig.add_axes(cax)\n",
    "norm = mpl.colors.Normalize(vmin=g_min, vmax=g_max)\n",
    "cbar = mpl.colorbar.ColorbarBase(\n",
    "    ax2, norm=norm, orientation=\"horizontal\", cmap=mpl.cm.viridis\n",
    ")\n",
    "cbar.set_label(\"$mGal$\", rotation=360, labelpad=0, size=12)\n",
    "\n",
    "plt.show()"
   ]
  },
  {
   "cell_type": "markdown",
   "id": "6b983d75",
   "metadata": {},
   "source": [
    "# **FIRST HORIZONTAL DERIVATIVE**"
   ]
  },
  {
   "cell_type": "code",
   "execution_count": 112,
   "id": "027a734f",
   "metadata": {},
   "outputs": [
    {
     "data": {
      "image/png": "[encoded data removed]",
      "text/plain": [
       "<Figure size 720x288 with 1 Axes>"
      ]
     },
     "metadata": {
      "needs_background": "light"
     },
     "output_type": "display_data"
    }
   ],
   "source": [
    "#reshape dpred\n",
    "\n",
    "# dpred2 = dpred\n",
    "dpred3 = np.reshape((np.abs(dpred2)), (nobs, nobs, 4))\n",
    "receiver_locations2 = np.reshape(receiver_locations, (nobs, nobs, 3))\n",
    "\n",
    "fig = plt.figure(figsize=(10, 4))\n",
    "ax1 = fig.add_axes([0.15, 0.1, 0.8, 0.85])\n",
    "ax1.plot(receiver_locations2[:, 20, 1],dpred3[:, 20, 3],\"ob\")\n",
    "ax1.set_xlabel(\"X [m]\")\n",
    "ax1.set_ylabel(\"Anomali Gravitasi [mGal]\")\n",
    "ax1.set_title(\"Profile Gravitasi pada potongan y=0\")\n",
    "# ax1.invert_yaxis()\n",
    "\n",
    "plt.xlim(-1000,1000)\n",
    "plt.grid()\n",
    "plt.show()"
   ]
  },
  {
   "cell_type": "code",
   "execution_count": 113,
   "id": "1f2cd8b4",
   "metadata": {},
   "outputs": [],
   "source": [
    "# MM = np.array(receiver_locations[:,0])\n",
    "# print(len(MM))\n",
    "dpredx = (np.abs(dpred[3:n_data:4]))*5\n",
    "dpredy = (np.abs(dpred[3:n_data:4]))"
   ]
  },
  {
   "cell_type": "code",
   "execution_count": 114,
   "id": "4660200b",
   "metadata": {},
   "outputs": [
    {
     "data": {
      "image/png": "[encoded data removed]",
      "text/plain": [
       "<Figure size 648x360 with 1 Axes>"
      ]
     },
     "metadata": {
      "needs_background": "light"
     },
     "output_type": "display_data"
    }
   ],
   "source": [
    "#First Horizontal Derivative\n",
    "MM = np.array(receiver_locations[:,0])\n",
    "\n",
    "fig, ax = plt.subplots(figsize = (9,5))\n",
    "ax.plot(MM[820:860], dpredx[820:860], 'o', label='Data')\n",
    "ax.tick_params(axis='both', labelsize=9)\n",
    "ax.set_title(\"Profile Gravitasi pada potongan y=0\")\n",
    "ax.set_xlabel(\"X [m]\")\n",
    "ax.set_ylabel('Anomali Gravitasi [$mGal$]', fontdict={'fontsize': 12})\n",
    "ax.legend(fontsize='medium', bbox_to_anchor=(0.99, 0.98), loc='upper right', borderaxespad=0)\n",
    "# ax.invert_yaxis()\n",
    "\n",
    "plt.xlim(-1000,1000)\n",
    "plt.grid()\n",
    "plt.show()"
   ]
  },
  {
   "cell_type": "code",
   "execution_count": 115,
   "id": "2bed8bb2",
   "metadata": {},
   "outputs": [],
   "source": [
    "# save_output = True\n",
    "# if save_output:\n",
    "\n",
    "#     dir_path = os.path.dirname('./Downloads/Gravity/Synthetic Data/output').split(os.path.sep)\n",
    "#     dir_path.extend([\"outputs\"])\n",
    "#     dir_path = os.path.sep.join(dir_path) + os.path.sep\n",
    "\n",
    "#     if not os.path.exists(dir_path):\n",
    "#         os.mkdir(dir_path)\n",
    "\n",
    "#     fname = dir_path + \"gravity_topo_RAPS2.txt\"\n",
    "#     np.savetxt(fname, np.c_[topo_xyz], fmt=\"%.4e\")\n",
    "\n",
    "#     np.random.seed(737)\n",
    "#     maximum_anomaly = np.max(np.abs(dpred))\n",
    "#     noise = 0.01 * maximum_anomaly * np.random.rand(len(dpred))\n",
    "#     fname = dir_path + \"gravity_data_RAPS2.obs\"\n",
    "#     np.savetxt(fname, np.c_[receiver_locations,\n",
    "#                             dpredy],\n",
    "#                             fmt=\"%.4e\")\n",
    "    \n",
    "# save_output"
   ]
  },
  {
   "cell_type": "code",
   "execution_count": 116,
   "id": "3ff3251e",
   "metadata": {},
   "outputs": [],
   "source": [
    "from mpl_toolkits.mplot3d import Axes3D"
   ]
  },
  {
   "cell_type": "code",
   "execution_count": 117,
   "id": "608bc6a8",
   "metadata": {},
   "outputs": [
    {
     "data": {
      "text/plain": [
       "array([[[-1000., -1000.,     5.],\n",
       "        [ -960., -1000.,     5.],\n",
       "        [ -920., -1000.,     5.],\n",
       "        ...,\n",
       "        [  920., -1000.,     5.],\n",
       "        [  960., -1000.,     5.],\n",
       "        [ 1000., -1000.,     5.]],\n",
       "\n",
       "       [[-1000.,  -960.,     5.],\n",
       "        [ -960.,  -960.,     5.],\n",
       "        [ -920.,  -960.,     5.],\n",
       "        ...,\n",
       "        [  920.,  -960.,     5.],\n",
       "        [  960.,  -960.,     5.],\n",
       "        [ 1000.,  -960.,     5.]],\n",
       "\n",
       "       [[-1000.,  -920.,     5.],\n",
       "        [ -960.,  -920.,     5.],\n",
       "        [ -920.,  -920.,     5.],\n",
       "        ...,\n",
       "        [  920.,  -920.,     5.],\n",
       "        [  960.,  -920.,     5.],\n",
       "        [ 1000.,  -920.,     5.]],\n",
       "\n",
       "       ...,\n",
       "\n",
       "       [[-1000.,   920.,     5.],\n",
       "        [ -960.,   920.,     5.],\n",
       "        [ -920.,   920.,     5.],\n",
       "        ...,\n",
       "        [  920.,   920.,     5.],\n",
       "        [  960.,   920.,     5.],\n",
       "        [ 1000.,   920.,     5.]],\n",
       "\n",
       "       [[-1000.,   960.,     5.],\n",
       "        [ -960.,   960.,     5.],\n",
       "        [ -920.,   960.,     5.],\n",
       "        ...,\n",
       "        [  920.,   960.,     5.],\n",
       "        [  960.,   960.,     5.],\n",
       "        [ 1000.,   960.,     5.]],\n",
       "\n",
       "       [[-1000.,  1000.,     5.],\n",
       "        [ -960.,  1000.,     5.],\n",
       "        [ -920.,  1000.,     5.],\n",
       "        ...,\n",
       "        [  920.,  1000.,     5.],\n",
       "        [  960.,  1000.,     5.],\n",
       "        [ 1000.,  1000.,     5.]]])"
      ]
     },
     "execution_count": 117,
     "metadata": {},
     "output_type": "execute_result"
    }
   ],
   "source": [
    "dpred3\n",
    "receiver_locations2"
   ]
  },
  {
   "cell_type": "markdown",
   "id": "036d88f5",
   "metadata": {},
   "source": [
    "# **MENYIAPKAN DATA UNTUK INVERSI**"
   ]
  },
  {
   "cell_type": "code",
   "execution_count": 118,
   "id": "14f40dab",
   "metadata": {},
   "outputs": [],
   "source": [
    "#Menambahkan noise pada data\n",
    "\n",
    "maximum_anomaly = np.max(np.abs(dpred))\n",
    "\n",
    "uncertainties = 0.03 * maximum_anomaly * np.ones(np.shape(dpred))"
   ]
  },
  {
   "cell_type": "code",
   "execution_count": 119,
   "id": "2cc313bb",
   "metadata": {},
   "outputs": [],
   "source": [
    "#Menjadikan data sintetik (observasi) menjadi Inversion Data Object\n",
    "\n",
    "data_object = data.Data(survey, dobs=dpred, standard_deviation=uncertainties)\n",
    "\n",
    "simulation = gravity.simulation.Simulation3DIntegral(\n",
    "    survey=survey, mesh=mesh, rhoMap=model_map, actInd=ind_active\n",
    ")"
   ]
  },
  {
   "cell_type": "markdown",
   "id": "91ec12a3",
   "metadata": {},
   "source": [
    "# **SPARSE INVERSION**"
   ]
  },
  {
   "cell_type": "code",
   "execution_count": 120,
   "id": "14707e9c",
   "metadata": {},
   "outputs": [],
   "source": [
    "# Define the data misfit. Here the data misfit is the L2 norm of the weighted\n",
    "# residual between the observed data and the data predicted for a given model.\n",
    "# Within the data misfit, the residual between predicted and observed data are\n",
    "# normalized by the data's standard deviation.\n",
    "dmis = data_misfit.L2DataMisfit(data=data_object, simulation=simulation)\n",
    "dmis.W = utils.sdiag(1 / uncertainties)\n",
    "\n",
    "# Define the regularization (model objective function).\n",
    "reg = regularization.Sparse(mesh, indActive=ind_active, mapping=model_map)\n",
    "reg.norms = np.c_[0, 2, 2, 2]\n",
    "\n",
    "# Define how the optimization problem is solved. Here we will use a projected\n",
    "# Gauss-Newton approach that employs the conjugate gradient solver.\n",
    "opt = optimization.ProjectedGNCG(\n",
    "    maxIter=100, lower=-1.0, upper=1.0, maxIterLS=20, maxIterCG=20, tolCG=1e-3\n",
    ")\n",
    "\n",
    "# Here we define the inverse problem that is to be solved\n",
    "inv_prob = inverse_problem.BaseInvProblem(dmis, reg, opt)\n",
    "\n",
    "# Defining a starting value for the trade-off parameter (beta) between the data\n",
    "# misfit and the regularization.\n",
    "starting_beta = directives.BetaEstimate_ByEig(beta0_ratio=0.05)\n",
    "\n",
    "# Defines the directives for the IRLS regularization. This includes setting\n",
    "# the cooling schedule for the trade-off parameter.\n",
    "update_IRLS = directives.Update_IRLS(\n",
    "    f_min_change=1e-4,\n",
    "    max_irls_iterations=20,\n",
    "    coolEpsFact=1.5,\n",
    "    beta_tol=1e-2,\n",
    ")\n",
    "\n",
    "# Defining the fractional decrease in beta and the number of Gauss-Newton solves\n",
    "# for each beta value.\n",
    "beta_schedule = directives.BetaSchedule(coolingFactor=5, coolingRate=1)\n",
    "\n",
    "# Options for outputting recovered models and predicted data for each beta.\n",
    "save_iteration = directives.SaveOutputEveryIteration(save_txt=False)\n",
    "\n",
    "save_directive = directives.SaveModelEveryIteration()\n",
    "\n",
    "# Updating the preconditionner if it is model dependent.\n",
    "update_jacobi = directives.UpdatePreconditioner()\n",
    "\n",
    "# Add sensitivity weights\n",
    "sensitivity_weights = directives.UpdateSensitivityWeights(everyIter=False)\n",
    "\n",
    "# The directives are defined as a list.\n",
    "directives_list = [\n",
    "    update_IRLS,\n",
    "    sensitivity_weights,\n",
    "    starting_beta,\n",
    "    beta_schedule,\n",
    "    save_iteration,\n",
    "    save_directive,\n",
    "    update_jacobi,\n",
    "]"
   ]
  },
  {
   "cell_type": "markdown",
   "id": "f2a2e421",
   "metadata": {},
   "source": [
    "# **LEAST SQUARE INVERSION**"
   ]
  },
  {
   "cell_type": "code",
   "execution_count": 121,
   "id": "e39dc6d7",
   "metadata": {},
   "outputs": [],
   "source": [
    "# # Define the data misfit. Here the data misfit is the L2 norm of the weighted\n",
    "# # residual between the observed data and the data predicted for a given model.\n",
    "# # Within the data misfit, the residual between predicted and observed data are\n",
    "# # normalized by the data's standard deviation.\n",
    "# dmis = data_misfit.L2DataMisfit(data=data_object, simulation=simulation)\n",
    "\n",
    "# # Define the regularization (model objective function).\n",
    "# reg = regularization.Simple(mesh, indActive=ind_active, mapping=model_map)\n",
    "\n",
    "# # Define how the optimization problem is solved. Here we will use a projected\n",
    "# # Gauss-Newton approach that employs the conjugate gradient solver.\n",
    "# opt = optimization.ProjectedGNCG(\n",
    "#     maxIter=10, lower=-1.0, upper=1.0, maxIterLS=20, maxIterCG=10, tolCG=1e-3\n",
    "# )\n",
    "\n",
    "# # Here we define the inverse problem that is to be solved\n",
    "# inv_prob = inverse_problem.BaseInvProblem(dmis, reg, opt)\n",
    "\n",
    "# # Defining a starting value for the trade-off parameter (beta) between the data\n",
    "# # misfit and the regularization.\n",
    "# starting_beta = directives.BetaEstimate_ByEig(beta0_ratio=1e1)\n",
    "\n",
    "# # Defining the fractional decrease in beta and the number of Gauss-Newton solves\n",
    "# # for each beta value.\n",
    "# beta_schedule = directives.BetaSchedule(coolingFactor=5, coolingRate=1)\n",
    "\n",
    "# # Options for outputting recovered models and predicted data for each beta.\n",
    "# save_iteration = directives.SaveOutputEveryIteration(save_txt=False)\n",
    "# save_directive = directives.SaveModelEveryIteration()\n",
    "\n",
    "# # Updating the preconditionner if it is model dependent.\n",
    "# update_jacobi = directives.UpdatePreconditioner()\n",
    "\n",
    "# # Setting a stopping criteria for the inversion.\n",
    "# target_misfit = directives.TargetMisfit(chifact=1)\n",
    "\n",
    "# # Add sensitivity weights\n",
    "# sensitivity_weights = directives.UpdateSensitivityWeights(everyIter=False)\n",
    "\n",
    "# # The directives are defined as a list.\n",
    "# directives_list = [\n",
    "#     sensitivity_weights,\n",
    "#     starting_beta,\n",
    "#     beta_schedule,\n",
    "#     save_iteration,\n",
    "#     save_directive,\n",
    "#     update_jacobi,\n",
    "#     target_misfit,\n",
    "# ]"
   ]
  },
  {
   "cell_type": "markdown",
   "id": "cfb8ba1f",
   "metadata": {},
   "source": [
    "# **MEMULAI INVERSI**"
   ]
  },
  {
   "cell_type": "code",
   "execution_count": 122,
   "id": "8fef39a4",
   "metadata": {},
   "outputs": [
    {
     "name": "stdout",
     "output_type": "stream",
     "text": [
      "SimPEG.InvProblem will set Regularization.mref to m0.\n",
      "\n",
      "        SimPEG.InvProblem is setting bfgsH0 to the inverse of the eval2Deriv.\n",
      "        ***Done using same Solver and solverOpts as the problem***\n",
      "SimPEG.SaveModelEveryIteration will save your models as: './###-InversionModel-2023-03-27-21-36.npy'\n",
      "model has any nan: 0\n",
      "=============================== Projected GNCG ===============================\n",
      "  #     beta     phi_d     phi_m       f      |proj(x-g)-x|  LS    Comment   \n",
      "-----------------------------------------------------------------------------\n",
      "x0 has any nan: 0\n",
      "   0  1.42e-01  1.05e+05  0.00e+00  1.05e+05    1.41e+02      0              \n",
      "Reached starting chifact with l2-norm regularization: Start IRLS steps...\n",
      "eps_p: 0.12806272031042676 eps_q: 0.12806272031042676\n",
      "   1  1.42e-02  1.51e+01  6.36e+03  1.05e+02    1.02e+02      0              \n",
      "   2  1.26e+00  5.87e+00  8.12e+03  1.03e+04    1.42e+02      0   Skip BFGS  \n",
      "   3  1.00e+00  8.76e+02  8.28e+03  9.18e+03    1.37e+02      0              \n",
      "   4  7.91e-01  8.84e+02  9.67e+03  8.53e+03    1.38e+02      0              \n",
      "   5  7.04e-01  7.54e+02  8.95e+03  7.06e+03    1.37e+02      0              \n",
      "   6  6.58e-01  7.07e+02  6.99e+03  5.31e+03    1.34e+02      0              \n",
      "   7  6.67e-01  6.40e+02  5.52e+03  4.32e+03    1.29e+02      0   Skip BFGS  \n",
      "   8  7.54e-01  5.59e+02  4.70e+03  4.10e+03    1.30e+02      0   Skip BFGS  \n",
      "   9  8.68e-01  5.47e+02  4.10e+03  4.11e+03    1.30e+02      0              \n",
      "  10  9.79e-01  5.61e+02  3.68e+03  4.16e+03    1.29e+02      0              \n",
      "  11  1.06e+00  5.86e+02  3.40e+03  4.20e+03    1.28e+02      0   Skip BFGS  \n",
      "  12  1.13e+00  6.04e+02  3.20e+03  4.22e+03    1.27e+02      0              \n",
      "  13  1.19e+00  6.08e+02  3.06e+03  4.26e+03    1.27e+02      0              \n",
      "  14  1.26e+00  6.06e+02  2.96e+03  4.34e+03    1.27e+02      0   Skip BFGS  \n",
      "  15  1.31e+00  6.20e+02  2.89e+03  4.41e+03    1.26e+02      0   Skip BFGS  \n",
      "  16  1.34e+00  6.34e+02  2.84e+03  4.44e+03    1.24e+02      0              \n",
      "  17  1.36e+00  6.35e+02  2.81e+03  4.46e+03    1.24e+02      0   Skip BFGS  \n",
      "  18  1.40e+00  6.30e+02  2.75e+03  4.48e+03    1.25e+02      0              \n",
      "  19  1.48e+00  6.07e+02  2.69e+03  4.58e+03    1.28e+02      0   Skip BFGS  \n",
      "  20  1.52e+00  6.28e+02  2.64e+03  4.64e+03    1.25e+02      0   Skip BFGS  \n",
      "Reach maximum number of IRLS cycles: 20\n",
      "------------------------- STOP! -------------------------\n",
      "1 : |fc-fOld| = 0.0000e+00 <= tolF*(1+|f0|) = 1.0508e+04\n",
      "0 : |xc-x_last| = 1.0733e-01 <= tolX*(1+|x0|) = 1.0141e-01\n",
      "0 : |proj(x-g)-x|    = 1.2540e+02 <= tolG          = 1.0000e-01\n",
      "0 : |proj(x-g)-x|    = 1.2540e+02 <= 1e3*eps       = 1.0000e-02\n",
      "0 : maxIter   =     100    <= iter          =     21\n",
      "------------------------- DONE! -------------------------\n",
      "INVERSI SELESAI! Waktu yang dibutuhkan = 405.91 s\n"
     ]
    }
   ],
   "source": [
    "# Here we combine the inverse problem and the set of directives\n",
    "inv = inversion.BaseInversion(inv_prob, directives_list)\n",
    "\n",
    "# Run inversion\n",
    "starting_model = background_density * np.ones(nC)\n",
    "recovered_model = inv.run(starting_model)\n",
    "print(\"INVERSI SELESAI! Waktu yang dibutuhkan = {:1.2f} s\".format(time.time() - t))"
   ]
  },
  {
   "cell_type": "code",
   "execution_count": 123,
   "id": "9a94c5bc",
   "metadata": {},
   "outputs": [
    {
     "data": {
      "image/png": "[encoded data removed]",
      "text/plain": [
       "<Figure size 648x432 with 2 Axes>"
      ]
     },
     "metadata": {
      "needs_background": "light"
     },
     "output_type": "display_data"
    },
    {
     "data": {
      "image/png": "[encoded data removed]",
      "text/plain": [
       "<Figure size 648x432 with 2 Axes>"
      ]
     },
     "metadata": {
      "needs_background": "light"
     },
     "output_type": "display_data"
    }
   ],
   "source": [
    "# Plot Model Kontras Densitas\n",
    "fig = plt.figure(figsize=(9, 6))\n",
    "plotting_map = maps.InjectActiveCells(mesh, ind_active, np.nan)\n",
    "\n",
    "ax1 = fig.add_axes([0.1, 0.12, 0.73, 0.78])\n",
    "mesh.plotSlice(\n",
    "    plotting_map * model,\n",
    "    normal=\"Y\",\n",
    "    ax=ax1,\n",
    "    ind=int(mesh.nCy / 2),\n",
    "    grid=True,\n",
    "    clim=(np.min(model), np.max(model)),\n",
    "    pcolorOpts={\"cmap\": \"viridis\"},\n",
    ")\n",
    "# ax1.set_title(\"Potongan model pada sumbu y = 0 m\")\n",
    "ax1.set_xlabel(\"x (m)\")\n",
    "ax1.set_ylabel(\"z (m)\")\n",
    "\n",
    "# ax2 = fig.add_axes([0.85, 0.12, 0.05, 0.78])\n",
    "divider = make_axes_locatable(ax1)\n",
    "cax = divider.new_vertical(size='5%', pad=0.6, pack_start = True)\n",
    "ax2 = fig.add_axes(cax)\n",
    "norm = mpl.colors.Normalize(vmin=np.min(model), vmax=np.max(model))\n",
    "cbar = mpl.colorbar.ColorbarBase(\n",
    "    ax2, norm=norm, orientation=\"horizontal\", cmap=mpl.cm.viridis\n",
    ")\n",
    "cbar.set_label(\"$g/cm^3$\", rotation=360, labelpad=5, size=12)\n",
    "\n",
    "plt.show()\n",
    "\n",
    "# Plot Recovered Model\n",
    "fig = plt.figure(figsize=(9, 6))\n",
    "plotting_map = maps.InjectActiveCells(mesh, ind_active, np.nan)\n",
    "\n",
    "ax1 = fig.add_axes([0.1, 0.1, 0.73, 0.8])\n",
    "mesh.plotSlice(\n",
    "    plotting_map * recovered_model,\n",
    "    normal=\"Y\",\n",
    "    ax=ax1,\n",
    "    ind=int(mesh.nCy / 2),\n",
    "    grid=True,\n",
    "    clim=(np.min(recovered_model), np.max(recovered_model)),\n",
    "    pcolorOpts={\"cmap\": \"viridis\"},\n",
    ")\n",
    "# ax1.set_title(\"Potongan model pada sumbu y = 0 m\")\n",
    "\n",
    "# ax2 = fig.add_axes([0.85, 0.1, 0.05, 0.8])\n",
    "divider = make_axes_locatable(ax1)\n",
    "cax = divider.new_vertical(size='5%', pad=0.6, pack_start = True)\n",
    "ax2 = fig.add_axes(cax)\n",
    "norm = mpl.colors.Normalize(vmin=np.min(recovered_model), vmax=np.max(recovered_model))\n",
    "cbar = mpl.colorbar.ColorbarBase(\n",
    "    ax2, norm=norm, orientation=\"horizontal\", cmap=mpl.cm.viridis\n",
    ")\n",
    "cbar.set_label(\"$g/cm^3$\", rotation=360, labelpad=5, size=12)\n",
    "\n",
    "plt.show()"
   ]
  },
  {
   "cell_type": "code",
   "execution_count": 124,
   "id": "961b7c9e",
   "metadata": {},
   "outputs": [],
   "source": [
    "b = plotting_map * model\n",
    "c = plotting_map * recovered_model\n",
    "dtrue = inv_prob.dpred"
   ]
  },
  {
   "cell_type": "code",
   "execution_count": 125,
   "id": "922e08cb",
   "metadata": {},
   "outputs": [
    {
     "name": "stdout",
     "output_type": "stream",
     "text": [
      "20000\n",
      "20000\n",
      "10404\n",
      "10404\n",
      "25.102186575693125\n",
      "23.111747970420392\n"
     ]
    }
   ],
   "source": [
    "#Profile data\n",
    "print(len(recovered_model))\n",
    "print(len(model))\n",
    "print(len(dpred))\n",
    "print(len(dtrue))\n",
    "print(np.max(dpred))\n",
    "print(np.max(dtrue))"
   ]
  },
  {
   "cell_type": "code",
   "execution_count": 126,
   "id": "7726d72b",
   "metadata": {},
   "outputs": [
    {
     "ename": "NotImplementedError",
     "evalue": "NumPy array could not be wrapped pyvista.",
     "output_type": "error",
     "traceback": [
      "\u001b[0;31m---------------------------------------------------------------------------\u001b[0m",
      "\u001b[0;31mNotImplementedError\u001b[0m                       Traceback (most recent call last)",
      "\u001b[0;32m/tmp/ipykernel_10759/2312982340.py\u001b[0m in \u001b[0;36m<module>\u001b[0;34m\u001b[0m\n\u001b[1;32m      1\u001b[0m \u001b[0mp\u001b[0m \u001b[0;34m=\u001b[0m \u001b[0mpv\u001b[0m\u001b[0;34m.\u001b[0m\u001b[0mPlotter\u001b[0m\u001b[0;34m(\u001b[0m\u001b[0;34m)\u001b[0m\u001b[0;34m\u001b[0m\u001b[0;34m\u001b[0m\u001b[0m\n\u001b[0;32m----> 2\u001b[0;31m \u001b[0mp\u001b[0m\u001b[0;34m.\u001b[0m\u001b[0madd_mesh\u001b[0m\u001b[0;34m(\u001b[0m\u001b[0mc\u001b[0m\u001b[0;34m)\u001b[0m\u001b[0;34m\u001b[0m\u001b[0;34m\u001b[0m\u001b[0m\n\u001b[0m",
      "\u001b[0;32m~/anaconda3/envs/python37/lib/python3.7/site-packages/pyvista/plotting/plotting.py\u001b[0m in \u001b[0;36madd_mesh\u001b[0;34m(self, mesh, color, style, scalars, clim, show_edges, edge_color, point_size, line_width, opacity, flip_scalars, lighting, n_colors, interpolate_before_map, cmap, label, reset_camera, scalar_bar_args, show_scalar_bar, multi_colors, name, texture, render_points_as_spheres, render_lines_as_tubes, smooth_shading, split_sharp_edges, ambient, diffuse, specular, specular_power, nan_color, nan_opacity, culling, rgb, categories, silhouette, use_transparency, below_color, above_color, annotations, pickable, preference, log_scale, pbr, metallic, roughness, render, component, emissive, copy_mesh, backface_params, **kwargs)\u001b[0m\n\u001b[1;32m   2881\u001b[0m         \u001b[0;31m# Convert the VTK data object to a pyvista wrapped object if necessary\u001b[0m\u001b[0;34m\u001b[0m\u001b[0;34m\u001b[0m\u001b[0;34m\u001b[0m\u001b[0m\n\u001b[1;32m   2882\u001b[0m         \u001b[0;32mif\u001b[0m \u001b[0;32mnot\u001b[0m \u001b[0mis_pyvista_dataset\u001b[0m\u001b[0;34m(\u001b[0m\u001b[0mmesh\u001b[0m\u001b[0;34m)\u001b[0m\u001b[0;34m:\u001b[0m\u001b[0;34m\u001b[0m\u001b[0;34m\u001b[0m\u001b[0m\n\u001b[0;32m-> 2883\u001b[0;31m             \u001b[0mmesh\u001b[0m \u001b[0;34m=\u001b[0m \u001b[0mwrap\u001b[0m\u001b[0;34m(\u001b[0m\u001b[0mmesh\u001b[0m\u001b[0;34m)\u001b[0m\u001b[0;34m\u001b[0m\u001b[0;34m\u001b[0m\u001b[0m\n\u001b[0m\u001b[1;32m   2884\u001b[0m             \u001b[0;32mif\u001b[0m \u001b[0;32mnot\u001b[0m \u001b[0mis_pyvista_dataset\u001b[0m\u001b[0;34m(\u001b[0m\u001b[0mmesh\u001b[0m\u001b[0;34m)\u001b[0m\u001b[0;34m:\u001b[0m\u001b[0;34m\u001b[0m\u001b[0;34m\u001b[0m\u001b[0m\n\u001b[1;32m   2885\u001b[0m                 raise TypeError(\n",
      "\u001b[0;32m~/anaconda3/envs/python37/lib/python3.7/site-packages/pyvista/utilities/helpers.py\u001b[0m in \u001b[0;36mwrap\u001b[0;34m(dataset)\u001b[0m\n\u001b[1;32m    952\u001b[0m             \u001b[0;32mreturn\u001b[0m \u001b[0mmesh\u001b[0m\u001b[0;34m\u001b[0m\u001b[0;34m\u001b[0m\u001b[0m\n\u001b[1;32m    953\u001b[0m         \u001b[0;32melse\u001b[0m\u001b[0;34m:\u001b[0m\u001b[0;34m\u001b[0m\u001b[0;34m\u001b[0m\u001b[0m\n\u001b[0;32m--> 954\u001b[0;31m             \u001b[0;32mraise\u001b[0m \u001b[0mNotImplementedError\u001b[0m\u001b[0;34m(\u001b[0m\u001b[0;34m'NumPy array could not be wrapped pyvista.'\u001b[0m\u001b[0;34m)\u001b[0m\u001b[0;34m\u001b[0m\u001b[0;34m\u001b[0m\u001b[0m\n\u001b[0m\u001b[1;32m    955\u001b[0m \u001b[0;34m\u001b[0m\u001b[0m\n\u001b[1;32m    956\u001b[0m     \u001b[0;31m# wrap VTK arrays as pyvista_ndarray\u001b[0m\u001b[0;34m\u001b[0m\u001b[0;34m\u001b[0m\u001b[0;34m\u001b[0m\u001b[0m\n",
      "\u001b[0;31mNotImplementedError\u001b[0m: NumPy array could not be wrapped pyvista."
     ]
    }
   ],
   "source": [
    "p = pv.Plotter()\n",
    "p.add_mesh(c)"
   ]
  },
  {
   "cell_type": "markdown",
   "id": "4107d159",
   "metadata": {},
   "source": [
    "## **Korelasi PEARSON**"
   ]
  },
  {
   "cell_type": "code",
   "execution_count": 127,
   "id": "ef52f12f",
   "metadata": {},
   "outputs": [
    {
     "name": "stdout",
     "output_type": "stream",
     "text": [
      "20000\n",
      "20000\n",
      "[[1.         0.48420755]\n",
      " [0.48420755 1.        ]]\n"
     ]
    }
   ],
   "source": [
    "# Pearson Coeficient\n",
    "print(len(b))\n",
    "print(len(c))\n",
    "corr = np.corrcoef(b,c)\n",
    "print(corr)"
   ]
  },
  {
   "cell_type": "markdown",
   "id": "91affe2a",
   "metadata": {},
   "source": [
    "## **RMSe**"
   ]
  },
  {
   "cell_type": "code",
   "execution_count": 128,
   "id": "5c0ad7a2",
   "metadata": {},
   "outputs": [
    {
     "name": "stdout",
     "output_type": "stream",
     "text": [
      "\n",
      "Lp model final misfit:1283.6377101125017\n",
      "Lp misfit sum(obs-calc)/nobs: 0.152 mGal\n",
      "Lp RMS misfit: 0.265 mGal\n"
     ]
    }
   ],
   "source": [
    "import math\n",
    "# o = (dpred - dtrue) / uncertainties\n",
    "# p = sum(o)/\n",
    "dp = (dpred - dtrue)**2\n",
    "dpx = sum(dp)/len(dpred)\n",
    "print(\"\\nLp model final misfit:\" + str(np.sum(((dpred-dtrue)/uncertainties)**2.)))\n",
    "print(\"Lp misfit sum(obs-calc)/nobs: %.3f mGal\"  %np.divide(np.sum(np.abs(dpred-dtrue)), len(dpred)))\n",
    "print(\"Lp RMS misfit: %.3f mGal\" %np.sqrt(np.divide(np.sum((dpred-dtrue)**2),len(dpred))))\n",
    "# print(\"Pearson misfit: %.3f\" %np.divide((len(dpred))*(np.sum(np.abs(dpred*dtrue))))-np.abs(np.sum(dpred)*(np.abs(np.sum(dtrue))), (np.sqrt(((len(dpred))*(np.sum(dpred**2))))-(np.sum(dpred)**2)))*(len(dpred))*(np.sum(dtrue**2)-(np.sum(dtrue)**2))))"
   ]
  },
  {
   "cell_type": "markdown",
   "id": "ab7b00c2",
   "metadata": {},
   "source": [
    "## **Grafik fitting data sintetik dan hasil inversi**"
   ]
  },
  {
   "cell_type": "code",
   "execution_count": 129,
   "id": "07571afc",
   "metadata": {},
   "outputs": [
    {
     "data": {
      "image/png": "[encoded data removed]",
      "text/plain": [
       "<Figure size 720x360 with 1 Axes>"
      ]
     },
     "metadata": {
      "needs_background": "light"
     },
     "output_type": "display_data"
    }
   ],
   "source": [
    "#First Horizontal Derivative\n",
    "MM = np.array(receiver_locations[:,0])\n",
    "dtruex = (np.abs(dtrue[3:n_data:4]))*5\n",
    "\n",
    "fig, ax = plt.subplots(figsize = (10,5))\n",
    "ax.plot(MM[1275:1325], dpredx[1275:1325], 'o', label='Synthetic')\n",
    "ax.plot(MM[1275:1325], dtruex[1275:1325], '-', label='Predicted')\n",
    "ax.tick_params(axis='both', labelsize=9)\n",
    "# ax.set_title(\"Gravity Anomaly (mGal)\")\n",
    "ax.set_xlabel(\"X [m]\")\n",
    "ax.set_ylabel('Gravity Anomaly [$mGal$]', fontdict={'fontsize': 12})\n",
    "ax.legend(fontsize='medium', bbox_to_anchor=(0.99, 0.98), loc='upper right', borderaxespad=0)\n",
    "# ax.invert_yaxis()\n",
    "\n",
    "plt.xlim(-1000,1000)\n",
    "plt.grid()\n",
    "plt.show()"
   ]
  },
  {
   "cell_type": "code",
   "execution_count": 96,
   "id": "a34418f9",
   "metadata": {},
   "outputs": [
    {
     "name": "stdout",
     "output_type": "stream",
     "text": [
      "2601\n",
      "2601\n",
      "2601\n",
      "2601\n"
     ]
    }
   ],
   "source": [
    "print(len(MM))\n",
    "print(len(dpredx))\n",
    "print(len(dtruex))\n",
    "print(len(receiver_locations))"
   ]
  },
  {
   "cell_type": "code",
   "execution_count": 27,
   "id": "ec48854b",
   "metadata": {},
   "outputs": [
    {
     "ename": "ValueError",
     "evalue": "Dimension mismatch in InjectActiveCells(20000,20000) and np.ndarray(50000,).",
     "output_type": "error",
     "traceback": [
      "\u001b[0;31m---------------------------------------------------------------------------\u001b[0m",
      "\u001b[0;31mValueError\u001b[0m                                Traceback (most recent call last)",
      "\u001b[0;32m/tmp/ipykernel_11603/3888807210.py\u001b[0m in \u001b[0;36m<module>\u001b[0;34m\u001b[0m\n\u001b[1;32m      6\u001b[0m \u001b[0max1\u001b[0m \u001b[0;34m=\u001b[0m \u001b[0mfig\u001b[0m\u001b[0;34m.\u001b[0m\u001b[0madd_axes\u001b[0m\u001b[0;34m(\u001b[0m\u001b[0;34m[\u001b[0m\u001b[0;36m0.1\u001b[0m\u001b[0;34m,\u001b[0m \u001b[0;36m0.1\u001b[0m\u001b[0;34m,\u001b[0m \u001b[0;36m0.73\u001b[0m\u001b[0;34m,\u001b[0m \u001b[0;36m0.8\u001b[0m\u001b[0;34m]\u001b[0m\u001b[0;34m)\u001b[0m\u001b[0;34m\u001b[0m\u001b[0;34m\u001b[0m\u001b[0m\n\u001b[1;32m      7\u001b[0m mesh.plotSlice(\n\u001b[0;32m----> 8\u001b[0;31m     \u001b[0mplotting_map\u001b[0m \u001b[0;34m*\u001b[0m \u001b[0mx\u001b[0m\u001b[0;34m,\u001b[0m\u001b[0;34m\u001b[0m\u001b[0;34m\u001b[0m\u001b[0m\n\u001b[0m\u001b[1;32m      9\u001b[0m     \u001b[0mnormal\u001b[0m\u001b[0;34m=\u001b[0m\u001b[0;34m\"Y\"\u001b[0m\u001b[0;34m,\u001b[0m\u001b[0;34m\u001b[0m\u001b[0;34m\u001b[0m\u001b[0m\n\u001b[1;32m     10\u001b[0m     \u001b[0max\u001b[0m\u001b[0;34m=\u001b[0m\u001b[0max1\u001b[0m\u001b[0;34m,\u001b[0m\u001b[0;34m\u001b[0m\u001b[0;34m\u001b[0m\u001b[0m\n",
      "\u001b[0;32m~/anaconda3/envs/python37/lib/python3.7/site-packages/SimPEG/maps.py\u001b[0m in \u001b[0;36m__mul__\u001b[0;34m(self, val)\u001b[0m\n\u001b[1;32m    192\u001b[0m                 raise ValueError(\n\u001b[1;32m    193\u001b[0m                     \"Dimension mismatch in {0!s} and np.ndarray{1!s}.\".format(\n\u001b[0;32m--> 194\u001b[0;31m                         \u001b[0mstr\u001b[0m\u001b[0;34m(\u001b[0m\u001b[0mself\u001b[0m\u001b[0;34m)\u001b[0m\u001b[0;34m,\u001b[0m \u001b[0mstr\u001b[0m\u001b[0;34m(\u001b[0m\u001b[0mval\u001b[0m\u001b[0;34m.\u001b[0m\u001b[0mshape\u001b[0m\u001b[0;34m)\u001b[0m\u001b[0;34m\u001b[0m\u001b[0;34m\u001b[0m\u001b[0m\n\u001b[0m\u001b[1;32m    195\u001b[0m                     )\n\u001b[1;32m    196\u001b[0m                 )\n",
      "\u001b[0;31mValueError\u001b[0m: Dimension mismatch in InjectActiveCells(20000,20000) and np.ndarray(50000,)."
     ]
    },
    {
     "data": {
      "image/png": "[encoded data removed]",
      "text/plain": [
       "<Figure size 648x288 with 1 Axes>"
      ]
     },
     "metadata": {
      "needs_background": "light"
     },
     "output_type": "display_data"
    }
   ],
   "source": [
    "dir_list = (os.listdir('./Downloads/Gravity/Balok Horizontal/Inversion/Least Square'))\n",
    "x = np.load('./Downloads/Gravity/Balok Horizontal/Inversion/Least Square/003-InversionModel-2022-06-27-20-47.npy')\n",
    "fig = plt.figure(figsize=(9, 4))\n",
    "plotting_map = maps.InjectActiveCells(mesh, ind_active, np.nan)\n",
    "\n",
    "ax1 = fig.add_axes([0.1, 0.1, 0.73, 0.8])\n",
    "mesh.plotSlice(\n",
    "    plotting_map * x,\n",
    "    normal=\"Y\",\n",
    "    ax=ax1,\n",
    "    ind=int(mesh.nCy / 2),\n",
    "    grid=True,\n",
    "    clim=(np.min(x), np.max(x)),\n",
    "    pcolorOpts={\"cmap\": \"viridis\"},\n",
    ")\n",
    "ax1.set_title(\"Anomali Gravitasi pada y = 0 m\")\n",
    "\n",
    "ax2 = fig.add_axes([0.85, 0.1, 0.05, 0.8])\n",
    "norm = mpl.colors.Normalize(vmin=np.min(x), vmax=np.max(x))\n",
    "cbar = mpl.colorbar.ColorbarBase(\n",
    "    ax2, norm=norm, orientation=\"vertical\", cmap=mpl.cm.viridis\n",
    ")\n",
    "cbar.set_label(\"$g/cm^3$\", rotation=270, labelpad=20, size=12)\n",
    "\n",
    "plt.show()\n",
    "# print(dir_list)"
   ]
  },
  {
   "cell_type": "code",
   "execution_count": 28,
   "id": "6df00299",
   "metadata": {
    "scrolled": false
   },
   "outputs": [
    {
     "ename": "ValueError",
     "evalue": "Dimension mismatch in InjectActiveCells(20000,20000) and np.ndarray(50000,).",
     "output_type": "error",
     "traceback": [
      "\u001b[0;31m---------------------------------------------------------------------------\u001b[0m",
      "\u001b[0;31mValueError\u001b[0m                                Traceback (most recent call last)",
      "\u001b[0;32m/tmp/ipykernel_11603/2894429712.py\u001b[0m in \u001b[0;36m<module>\u001b[0;34m\u001b[0m\n\u001b[1;32m     10\u001b[0m         \u001b[0max1\u001b[0m \u001b[0;34m=\u001b[0m \u001b[0mfig\u001b[0m\u001b[0;34m.\u001b[0m\u001b[0madd_axes\u001b[0m\u001b[0;34m(\u001b[0m\u001b[0;34m[\u001b[0m\u001b[0;36m0.1\u001b[0m\u001b[0;34m,\u001b[0m \u001b[0;36m0.1\u001b[0m\u001b[0;34m,\u001b[0m \u001b[0;36m0.73\u001b[0m\u001b[0;34m,\u001b[0m \u001b[0;36m0.8\u001b[0m\u001b[0;34m]\u001b[0m\u001b[0;34m)\u001b[0m\u001b[0;34m\u001b[0m\u001b[0;34m\u001b[0m\u001b[0m\n\u001b[1;32m     11\u001b[0m         mesh.plotSlice(\n\u001b[0;32m---> 12\u001b[0;31m             \u001b[0mplotting_map\u001b[0m \u001b[0;34m*\u001b[0m \u001b[0mx\u001b[0m\u001b[0;34m,\u001b[0m\u001b[0;34m\u001b[0m\u001b[0;34m\u001b[0m\u001b[0m\n\u001b[0m\u001b[1;32m     13\u001b[0m             \u001b[0mnormal\u001b[0m\u001b[0;34m=\u001b[0m\u001b[0;34m\"Y\"\u001b[0m\u001b[0;34m,\u001b[0m\u001b[0;34m\u001b[0m\u001b[0;34m\u001b[0m\u001b[0m\n\u001b[1;32m     14\u001b[0m             \u001b[0max\u001b[0m\u001b[0;34m=\u001b[0m\u001b[0max1\u001b[0m\u001b[0;34m,\u001b[0m\u001b[0;34m\u001b[0m\u001b[0;34m\u001b[0m\u001b[0m\n",
      "\u001b[0;32m~/anaconda3/envs/python37/lib/python3.7/site-packages/SimPEG/maps.py\u001b[0m in \u001b[0;36m__mul__\u001b[0;34m(self, val)\u001b[0m\n\u001b[1;32m    192\u001b[0m                 raise ValueError(\n\u001b[1;32m    193\u001b[0m                     \"Dimension mismatch in {0!s} and np.ndarray{1!s}.\".format(\n\u001b[0;32m--> 194\u001b[0;31m                         \u001b[0mstr\u001b[0m\u001b[0;34m(\u001b[0m\u001b[0mself\u001b[0m\u001b[0;34m)\u001b[0m\u001b[0;34m,\u001b[0m \u001b[0mstr\u001b[0m\u001b[0;34m(\u001b[0m\u001b[0mval\u001b[0m\u001b[0;34m.\u001b[0m\u001b[0mshape\u001b[0m\u001b[0;34m)\u001b[0m\u001b[0;34m\u001b[0m\u001b[0;34m\u001b[0m\u001b[0m\n\u001b[0m\u001b[1;32m    195\u001b[0m                     )\n\u001b[1;32m    196\u001b[0m                 )\n",
      "\u001b[0;31mValueError\u001b[0m: Dimension mismatch in InjectActiveCells(20000,20000) and np.ndarray(50000,)."
     ]
    },
    {
     "data": {
      "image/png": "[encoded data removed]",
      "text/plain": [
       "<Figure size 648x288 with 1 Axes>"
      ]
     },
     "metadata": {
      "needs_background": "light"
     },
     "output_type": "display_data"
    }
   ],
   "source": [
    "from glob import glob\n",
    "\n",
    "npydata = sorted(glob('./Downloads/Gravity/Balok Horizontal/Inversion/Least Square/*.npy'))\n",
    "for x in npydata:\n",
    "    with open(x,\"r\") as fin:\n",
    "        x = np.load(x)\n",
    "        fig = plt.figure(figsize=(9, 4))\n",
    "        plotting_map = maps.InjectActiveCells(mesh, ind_active, np.nan)\n",
    "\n",
    "        ax1 = fig.add_axes([0.1, 0.1, 0.73, 0.8])\n",
    "        mesh.plotSlice(\n",
    "            plotting_map * x,\n",
    "            normal=\"Y\",\n",
    "            ax=ax1,\n",
    "            ind=int(mesh.nCy / 2),\n",
    "            grid=True,\n",
    "            clim=(np.min(x), np.max(x)),\n",
    "            pcolorOpts={\"cmap\": \"viridis\"},\n",
    "        )\n",
    "        ax1.set_title(\"Anomali Gravitasi pada y = 0 m\")\n",
    "\n",
    "        ax2 = fig.add_axes([0.85, 0.1, 0.05, 0.8])\n",
    "        norm = mpl.colors.Normalize(vmin=np.min(x), vmax=np.max(x))\n",
    "        cbar = mpl.colorbar.ColorbarBase(\n",
    "            ax2, norm=norm, orientation=\"vertical\", cmap=mpl.cm.viridis\n",
    "        )\n",
    "        cbar.set_label(\"$g/cm^3$\", rotation=270, labelpad=20, size=12)\n",
    "\n",
    "        plt.show()"
   ]
  },
  {
   "cell_type": "code",
   "execution_count": 31,
   "id": "032daab4",
   "metadata": {},
   "outputs": [],
   "source": [
    "# if save_output:\n",
    "\n",
    "#     dir_path = os.path.dirname(__file__).split(os.path.sep)\n",
    "#     dir_path.extend([\"outputs\"])\n",
    "#     dir_path = os.path.sep.join(dir_path) + os.path.sep\n",
    "\n",
    "#     if not os.path.exists(dir_path):\n",
    "#         os.mkdir(dir_path)\n",
    "\n",
    "#     fname = dir_path + \"gravity_topo.txt\"\n",
    "#     np.savetxt(fname, np.c_[topo_xyz], fmt=\"%.4e\")\n",
    "\n",
    "#     np.random.seed(737)\n",
    "#     maximum_anomaly = np.max(np.abs(dpred))\n",
    "#     noise = 0.01 * maximum_anomaly * np.random.rand(len(dpred))\n",
    "#     fname = dir_path + \"gravity_data.obs\"\n",
    "#     np.savetxt(fname, np.c_[receiver_locations, dpred + noise], fmt=\"%.4e\")"
   ]
  }
 ],
 "metadata": {
  "kernelspec": {
   "display_name": "Python 3 (ipykernel)",
   "language": "python",
   "name": "python3"
  },
  "language_info": {
   "codemirror_mode": {
    "name": "ipython",
    "version": 3
   },
   "file_extension": ".py",
   "mimetype": "text/x-python",
   "name": "python",
   "nbconvert_exporter": "python",
   "pygments_lexer": "ipython3",
   "version": "3.7.8"
  }
 },
 "nbformat": 4,
 "nbformat_minor": 5
}
